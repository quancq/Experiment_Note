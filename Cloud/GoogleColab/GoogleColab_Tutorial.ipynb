{
  "nbformat": 4,
  "nbformat_minor": 0,
  "metadata": {
    "colab": {
      "name": "GoogleColab_Tutorial.ipynb",
      "version": "0.3.2",
      "provenance": [],
      "collapsed_sections": []
    },
    "kernelspec": {
      "name": "python3",
      "display_name": "Python 3"
    },
    "accelerator": "GPU"
  },
  "cells": [
    {
      "metadata": {
        "id": "Dgz5oLmavWGA",
        "colab_type": "code",
        "colab": {}
      },
      "cell_type": "code",
      "source": [
        "# # Connect to read/write file and handle os path with Google Drive\n",
        "from google.colab import drive\n",
        "drive.mount('/content/gdrive')"
      ],
      "execution_count": 0,
      "outputs": []
    },
    {
      "metadata": {
        "id": "UC8KRpHb49V_",
        "colab_type": "code",
        "outputId": "fc2dfafc-8402-4352-97ed-73a2890cc2b9",
        "colab": {
          "base_uri": "https://localhost:8080/",
          "height": 510
        }
      },
      "cell_type": "code",
      "source": [
        "# Show Devices\n",
        "import tensorflow as tf\n",
        "from tensorflow.python.client import device_lib\n",
        "print('Current Device: ', tf.test.gpu_device_name() + '\\n')\n",
        "device_lib.list_local_devices()"
      ],
      "execution_count": 3,
      "outputs": [
        {
          "output_type": "stream",
          "text": [
            "Current Device:  /device:GPU:0\n",
            "\n"
          ],
          "name": "stdout"
        },
        {
          "output_type": "execute_result",
          "data": {
            "text/plain": [
              "[name: \"/device:CPU:0\"\n",
              " device_type: \"CPU\"\n",
              " memory_limit: 268435456\n",
              " locality {\n",
              " }\n",
              " incarnation: 18303276372412532704, name: \"/device:XLA_CPU:0\"\n",
              " device_type: \"XLA_CPU\"\n",
              " memory_limit: 17179869184\n",
              " locality {\n",
              " }\n",
              " incarnation: 4121485523503259996\n",
              " physical_device_desc: \"device: XLA_CPU device\", name: \"/device:XLA_GPU:0\"\n",
              " device_type: \"XLA_GPU\"\n",
              " memory_limit: 17179869184\n",
              " locality {\n",
              " }\n",
              " incarnation: 1536526304430824105\n",
              " physical_device_desc: \"device: XLA_GPU device\", name: \"/device:GPU:0\"\n",
              " device_type: \"GPU\"\n",
              " memory_limit: 11276946637\n",
              " locality {\n",
              "   bus_id: 1\n",
              "   links {\n",
              "   }\n",
              " }\n",
              " incarnation: 15112990805322120162\n",
              " physical_device_desc: \"device: 0, name: Tesla K80, pci bus id: 0000:00:04.0, compute capability: 3.7\"]"
            ]
          },
          "metadata": {
            "tags": []
          },
          "execution_count": 3
        }
      ]
    },
    {
      "metadata": {
        "id": "9d9bBAS_5Blc",
        "colab_type": "code",
        "outputId": "bf537ab8-5353-4049-b9ee-8cb66d83b966",
        "colab": {
          "base_uri": "https://localhost:8080/",
          "height": 782
        }
      },
      "cell_type": "code",
      "source": [
        "# RAM: \n",
        "!cat /proc/meminfo\n"
      ],
      "execution_count": 4,
      "outputs": [
        {
          "output_type": "stream",
          "text": [
            "MemTotal:       13335276 kB\n",
            "MemFree:         9662696 kB\n",
            "MemAvailable:   12190168 kB\n",
            "Buffers:           87608 kB\n",
            "Cached:          2573104 kB\n",
            "SwapCached:            0 kB\n",
            "Active:          1061656 kB\n",
            "Inactive:        2220360 kB\n",
            "Active(anon):     585764 kB\n",
            "Inactive(anon):     2400 kB\n",
            "Active(file):     475892 kB\n",
            "Inactive(file):  2217960 kB\n",
            "Unevictable:           0 kB\n",
            "Mlocked:               0 kB\n",
            "SwapTotal:             0 kB\n",
            "SwapFree:              0 kB\n",
            "Dirty:               604 kB\n",
            "Writeback:             0 kB\n",
            "AnonPages:        621420 kB\n",
            "Mapped:           441568 kB\n",
            "Shmem:              2952 kB\n",
            "Slab:             188952 kB\n",
            "SReclaimable:     148260 kB\n",
            "SUnreclaim:        40692 kB\n",
            "KernelStack:        4640 kB\n",
            "PageTables:         7028 kB\n",
            "NFS_Unstable:          0 kB\n",
            "Bounce:                0 kB\n",
            "WritebackTmp:          0 kB\n",
            "CommitLimit:     6667636 kB\n",
            "Committed_AS:    2593964 kB\n",
            "VmallocTotal:   34359738367 kB\n",
            "VmallocUsed:           0 kB\n",
            "VmallocChunk:          0 kB\n",
            "AnonHugePages:         0 kB\n",
            "ShmemHugePages:        0 kB\n",
            "ShmemPmdMapped:        0 kB\n",
            "HugePages_Total:       0\n",
            "HugePages_Free:        0\n",
            "HugePages_Rsvd:        0\n",
            "HugePages_Surp:        0\n",
            "Hugepagesize:       2048 kB\n",
            "DirectMap4k:      196596 kB\n",
            "DirectMap2M:     6094848 kB\n",
            "DirectMap1G:     9437184 kB\n"
          ],
          "name": "stdout"
        }
      ]
    },
    {
      "metadata": {
        "id": "Mj0Q4Smw5v7F",
        "colab_type": "code",
        "outputId": "5501b1ca-5ffc-4799-8c97-b580e878a8ed",
        "colab": {
          "base_uri": "https://localhost:8080/",
          "height": 955
        }
      },
      "cell_type": "code",
      "source": [
        "# CPU: \n",
        "!cat /proc/cpuinfo"
      ],
      "execution_count": 5,
      "outputs": [
        {
          "output_type": "stream",
          "text": [
            "processor\t: 0\n",
            "vendor_id\t: GenuineIntel\n",
            "cpu family\t: 6\n",
            "model\t\t: 63\n",
            "model name\t: Intel(R) Xeon(R) CPU @ 2.30GHz\n",
            "stepping\t: 0\n",
            "microcode\t: 0x1\n",
            "cpu MHz\t\t: 2300.000\n",
            "cache size\t: 46080 KB\n",
            "physical id\t: 0\n",
            "siblings\t: 2\n",
            "core id\t\t: 0\n",
            "cpu cores\t: 1\n",
            "apicid\t\t: 0\n",
            "initial apicid\t: 0\n",
            "fpu\t\t: yes\n",
            "fpu_exception\t: yes\n",
            "cpuid level\t: 13\n",
            "wp\t\t: yes\n",
            "flags\t\t: fpu vme de pse tsc msr pae mce cx8 apic sep mtrr pge mca cmov pat pse36 clflush mmx fxsr sse sse2 ss ht syscall nx pdpe1gb rdtscp lm constant_tsc rep_good nopl xtopology nonstop_tsc cpuid tsc_known_freq pni pclmulqdq ssse3 fma cx16 pcid sse4_1 sse4_2 x2apic movbe popcnt aes xsave avx f16c rdrand hypervisor lahf_lm abm invpcid_single pti ssbd ibrs ibpb stibp fsgsbase tsc_adjust bmi1 avx2 smep bmi2 erms invpcid xsaveopt arat arch_capabilities\n",
            "bugs\t\t: cpu_meltdown spectre_v1 spectre_v2 spec_store_bypass l1tf\n",
            "bogomips\t: 4600.00\n",
            "clflush size\t: 64\n",
            "cache_alignment\t: 64\n",
            "address sizes\t: 46 bits physical, 48 bits virtual\n",
            "power management:\n",
            "\n",
            "processor\t: 1\n",
            "vendor_id\t: GenuineIntel\n",
            "cpu family\t: 6\n",
            "model\t\t: 63\n",
            "model name\t: Intel(R) Xeon(R) CPU @ 2.30GHz\n",
            "stepping\t: 0\n",
            "microcode\t: 0x1\n",
            "cpu MHz\t\t: 2300.000\n",
            "cache size\t: 46080 KB\n",
            "physical id\t: 0\n",
            "siblings\t: 2\n",
            "core id\t\t: 0\n",
            "cpu cores\t: 1\n",
            "apicid\t\t: 1\n",
            "initial apicid\t: 1\n",
            "fpu\t\t: yes\n",
            "fpu_exception\t: yes\n",
            "cpuid level\t: 13\n",
            "wp\t\t: yes\n",
            "flags\t\t: fpu vme de pse tsc msr pae mce cx8 apic sep mtrr pge mca cmov pat pse36 clflush mmx fxsr sse sse2 ss ht syscall nx pdpe1gb rdtscp lm constant_tsc rep_good nopl xtopology nonstop_tsc cpuid tsc_known_freq pni pclmulqdq ssse3 fma cx16 pcid sse4_1 sse4_2 x2apic movbe popcnt aes xsave avx f16c rdrand hypervisor lahf_lm abm invpcid_single pti ssbd ibrs ibpb stibp fsgsbase tsc_adjust bmi1 avx2 smep bmi2 erms invpcid xsaveopt arat arch_capabilities\n",
            "bugs\t\t: cpu_meltdown spectre_v1 spectre_v2 spec_store_bypass l1tf\n",
            "bogomips\t: 4600.00\n",
            "clflush size\t: 64\n",
            "cache_alignment\t: 64\n",
            "address sizes\t: 46 bits physical, 48 bits virtual\n",
            "power management:\n",
            "\n"
          ],
          "name": "stdout"
        }
      ]
    },
    {
      "metadata": {
        "id": "C_Zii8mKOLAd",
        "colab_type": "code",
        "outputId": "e8793585-21e7-4f35-e9f5-c8daecca763a",
        "colab": {
          "base_uri": "https://localhost:8080/",
          "height": 119
        }
      },
      "cell_type": "code",
      "source": [
        "# Check alloted memory\n",
        "!ln -sf /opt/bin/nvidia-smi /usr/bin/nvidia-smi\n",
        "!pip install gputil\n",
        "!pip install psutil\n",
        "!pip install humanize\n",
        "import psutil\n",
        "import humanize\n",
        "import os\n",
        "import GPUtil as GPU\n",
        "\n",
        "\n",
        "GPUs = GPU.getGPUs()\n",
        "# XXX: only one GPU on Colab and isn’t guaranteed\n",
        "gpu = GPUs[0]\n",
        "def printm():\n",
        "  process = psutil.Process(os.getpid())\n",
        "  print('Gen RAM Free: ' + humanize.naturalsize( psutil.virtual_memory().available ), ' I Proc size: ' + humanize.naturalsize( process.memory_info().rss))\n",
        "  print('GPU RAM Free: {0:.0f}MB | Used: {1:.0f}MB | Util {2:3.0f}% | Total {3:.0f}MB'.format(gpu.memoryFree, gpu.memoryUsed, gpu.memoryUtil*100, gpu.memoryTotal))\n",
        "\n",
        "\n",
        "printm()\n",
        "# Current Usage\n",
        "process = psutil.Process(os.getpid())\n",
        "print(\"Real usage: \", process.memory_info().rss/(10**9))"
      ],
      "execution_count": 6,
      "outputs": [
        {
          "output_type": "stream",
          "text": [
            "Requirement already satisfied: gputil in /usr/local/lib/python3.6/dist-packages (1.4.0)\n",
            "Requirement already satisfied: psutil in /usr/local/lib/python3.6/dist-packages (5.4.8)\n",
            "Requirement already satisfied: humanize in /usr/local/lib/python3.6/dist-packages (0.5.1)\n",
            "Gen RAM Free: 12.5 GB  I Proc size: 746.6 MB\n",
            "GPU RAM Free: 11320MB | Used: 121MB | Util   1% | Total 11441MB\n",
            "Real usage:  0.74657792\n"
          ],
          "name": "stdout"
        }
      ]
    },
    {
      "metadata": {
        "id": "Nw9ytHhT5wGI",
        "colab_type": "code",
        "outputId": "2abb1a8d-475b-4525-9b9e-00af8799527d",
        "colab": {
          "base_uri": "https://localhost:8080/",
          "height": 207
        }
      },
      "cell_type": "code",
      "source": [
        "# Tensorflow version\n",
        "!pip show tensorflow"
      ],
      "execution_count": 7,
      "outputs": [
        {
          "output_type": "stream",
          "text": [
            "Name: tensorflow\n",
            "Version: 1.13.0rc1\n",
            "Summary: TensorFlow is an open source machine learning framework for everyone.\n",
            "Home-page: https://www.tensorflow.org/\n",
            "Author: Google Inc.\n",
            "Author-email: opensource@google.com\n",
            "License: Apache 2.0\n",
            "Location: /usr/local/lib/python3.6/dist-packages\n",
            "Requires: wheel, gast, protobuf, absl-py, numpy, tensorflow-estimator, termcolor, astor, six, keras-preprocessing, keras-applications, tensorboard, grpcio\n",
            "Required-by: stable-baselines, magenta, fancyimpute\n"
          ],
          "name": "stdout"
        }
      ]
    },
    {
      "metadata": {
        "id": "46Xpuwbt7iSj",
        "colab_type": "code",
        "outputId": "9fdb7f28-bca9-4c6b-bb43-423fbe6275d3",
        "colab": {
          "base_uri": "https://localhost:8080/",
          "height": 119
        }
      },
      "cell_type": "code",
      "source": [
        "import cv2\n",
        "print(\"Opencv2    : \", cv2.__version__)\n",
        "import torch, torchvision\n",
        "print(\"PyTorch    : \", torch.__version__)\n",
        "import keras\n",
        "print(\"Keras      : \", keras.__version__)\n",
        "import tensorflow as tf\n",
        "print(\"Tensorflow : \", tf.__version__)\n",
        "import caffe2\n",
        "print(\"Caffe2     : \", caffe2)\n",
        "import imblearn"
      ],
      "execution_count": 8,
      "outputs": [
        {
          "output_type": "stream",
          "text": [
            "Opencv2    :  3.4.3\n",
            "PyTorch    :  1.0.1.post2\n",
            "Keras      :  2.2.4\n",
            "Tensorflow :  1.13.0-rc1\n",
            "Caffe2     :  <module 'caffe2' from '/usr/local/lib/python3.6/dist-packages/caffe2/__init__.py'>\n"
          ],
          "name": "stdout"
        },
        {
          "output_type": "stream",
          "text": [
            "Using TensorFlow backend.\n"
          ],
          "name": "stderr"
        }
      ]
    },
    {
      "metadata": {
        "id": "pf5-x5IIx35K",
        "colab_type": "code",
        "outputId": "51817344-dd76-4287-bc51-c4cb88a6ee07",
        "colab": {
          "base_uri": "https://localhost:8080/",
          "height": 85
        }
      },
      "cell_type": "code",
      "source": [
        "!ls -l"
      ],
      "execution_count": 9,
      "outputs": [
        {
          "output_type": "stream",
          "text": [
            "total 12\n",
            "-rw-r--r-- 1 root root 2478 Feb 23 10:16 adc.json\n",
            "drwx------ 3 root root 4096 Feb 23 10:37 gdrive\n",
            "drwxr-xr-x 1 root root 4096 Feb 15 17:21 sample_data\n"
          ],
          "name": "stdout"
        }
      ]
    },
    {
      "metadata": {
        "id": "NUH-LcauFfFn",
        "colab_type": "code",
        "outputId": "0b69d55f-0a2c-469b-f297-b8f55eec84f2",
        "colab": {
          "base_uri": "https://localhost:8080/",
          "height": 68
        }
      },
      "cell_type": "code",
      "source": [
        "import os\n",
        "os.chdir(\"/content/gdrive/My Drive/Cloud/Google_Colab/Tutorial\")\n",
        "print(os.getcwd())\n",
        "!ls -l"
      ],
      "execution_count": 11,
      "outputs": [
        {
          "output_type": "stream",
          "text": [
            "/content/gdrive/My Drive/Cloud/Google_Colab/Tutorial\n",
            "total 15\n",
            "-rw------- 1 root root 15003 Feb 23 10:44 GoogleColab_Tutorial.ipynb\n"
          ],
          "name": "stdout"
        }
      ]
    },
    {
      "metadata": {
        "id": "5Kq6siMQznrZ",
        "colab_type": "code",
        "colab": {
          "base_uri": "https://localhost:8080/",
          "height": 204
        },
        "outputId": "292a0038-d4a2-449b-9ca8-095659e21ddc"
      },
      "cell_type": "code",
      "source": [
        "# Download file\n",
        "!wget https://raw.githubusercontent.com/quancq/Experiment_Note/master/Cloud/GoogleColab/utils.py -O utils.py"
      ],
      "execution_count": 17,
      "outputs": [
        {
          "output_type": "stream",
          "text": [
            "--2019-02-23 10:47:32--  https://raw.githubusercontent.com/quancq/Experiment_Note/master/Cloud/GoogleColab/utils.py\n",
            "Resolving raw.githubusercontent.com (raw.githubusercontent.com)... 151.101.0.133, 151.101.64.133, 151.101.128.133, ...\n",
            "Connecting to raw.githubusercontent.com (raw.githubusercontent.com)|151.101.0.133|:443... connected.\n",
            "HTTP request sent, awaiting response... 200 OK\n",
            "Length: 1079 (1.1K) [text/plain]\n",
            "Saving to: ‘utils.py’\n",
            "\n",
            "\rutils.py              0%[                    ]       0  --.-KB/s               \rutils.py            100%[===================>]   1.05K  --.-KB/s    in 0s      \n",
            "\n",
            "2019-02-23 10:47:32 (109 MB/s) - ‘utils.py’ saved [1079/1079]\n",
            "\n"
          ],
          "name": "stdout"
        }
      ]
    },
    {
      "metadata": {
        "id": "PyB_-UuMEXiK",
        "colab_type": "code",
        "outputId": "56c06175-b761-45f7-bb58-552c19b155bb",
        "colab": {
          "base_uri": "https://localhost:8080/",
          "height": 34
        }
      },
      "cell_type": "code",
      "source": [
        "import time\n",
        "import utils\n",
        "curr_time = utils.get_time_str()\n",
        "print(curr_time)"
      ],
      "execution_count": 18,
      "outputs": [
        {
          "output_type": "stream",
          "text": [
            "2019-02-23 10:47:47\n"
          ],
          "name": "stdout"
        }
      ]
    },
    {
      "metadata": {
        "id": "xvqy4Duv07z2",
        "colab_type": "code",
        "colab": {
          "base_uri": "https://localhost:8080/",
          "height": 51
        },
        "outputId": "e04ab200-9bd3-459d-d4b7-81b67526452f"
      },
      "cell_type": "code",
      "source": [
        "# Download Google Drive file\n",
        "\n",
        "!pip install -U -q PyDrive\n",
        "\n",
        "from pydrive.auth import GoogleAuth\n",
        "from pydrive.drive import GoogleDrive\n",
        "from google.colab import auth\n",
        "from oauth2client.client import GoogleCredentials\n",
        "\n",
        "# Authenticate and create the PyDrive client.\n",
        "auth.authenticate_user()\n",
        "gauth = GoogleAuth()\n",
        "gauth.credentials = GoogleCredentials.get_application_default()\n",
        "drive = GoogleDrive(gauth)"
      ],
      "execution_count": 19,
      "outputs": [
        {
          "output_type": "stream",
          "text": [
            "\u001b[?25l\r\u001b[K    1% |▎                               | 10kB 20.2MB/s eta 0:00:01\r\u001b[K    2% |▋                               | 20kB 2.3MB/s eta 0:00:01\r\u001b[K    3% |█                               | 30kB 3.3MB/s eta 0:00:01\r\u001b[K    4% |█▎                              | 40kB 2.1MB/s eta 0:00:01\r\u001b[K    5% |█▋                              | 51kB 2.6MB/s eta 0:00:01\r\u001b[K    6% |██                              | 61kB 3.1MB/s eta 0:00:01\r\u001b[K    7% |██▎                             | 71kB 3.5MB/s eta 0:00:01\r\u001b[K    8% |██▋                             | 81kB 4.0MB/s eta 0:00:01\r\u001b[K    9% |███                             | 92kB 4.4MB/s eta 0:00:01\r\u001b[K    10% |███▎                            | 102kB 3.5MB/s eta 0:00:01\r\u001b[K    11% |███▋                            | 112kB 3.5MB/s eta 0:00:01\r\u001b[K    12% |████                            | 122kB 4.9MB/s eta 0:00:01\r\u001b[K    13% |████▎                           | 133kB 4.9MB/s eta 0:00:01\r\u001b[K    14% |████▋                           | 143kB 9.1MB/s eta 0:00:01\r\u001b[K    15% |█████                           | 153kB 9.3MB/s eta 0:00:01\r\u001b[K    16% |█████▎                          | 163kB 9.4MB/s eta 0:00:01\r\u001b[K    17% |█████▋                          | 174kB 9.5MB/s eta 0:00:01\r\u001b[K    18% |██████                          | 184kB 9.5MB/s eta 0:00:01\r\u001b[K    19% |██████▎                         | 194kB 9.5MB/s eta 0:00:01\r\u001b[K    20% |██████▋                         | 204kB 42.0MB/s eta 0:00:01\r\u001b[K    21% |███████                         | 215kB 10.7MB/s eta 0:00:01\r\u001b[K    22% |███████▎                        | 225kB 10.7MB/s eta 0:00:01\r\u001b[K    23% |███████▋                        | 235kB 10.7MB/s eta 0:00:01\r\u001b[K    24% |████████                        | 245kB 10.7MB/s eta 0:00:01\r\u001b[K    25% |████████▎                       | 256kB 10.7MB/s eta 0:00:01\r\u001b[K    26% |████████▋                       | 266kB 10.4MB/s eta 0:00:01\r\u001b[K    27% |█████████                       | 276kB 10.7MB/s eta 0:00:01\r\u001b[K    29% |█████████▎                      | 286kB 10.7MB/s eta 0:00:01\r\u001b[K    30% |█████████▋                      | 296kB 10.6MB/s eta 0:00:01\r\u001b[K    31% |██████████                      | 307kB 10.6MB/s eta 0:00:01\r\u001b[K    32% |██████████▎                     | 317kB 45.1MB/s eta 0:00:01\r\u001b[K    33% |██████████▋                     | 327kB 10.3MB/s eta 0:00:01\r\u001b[K    34% |███████████                     | 337kB 10.3MB/s eta 0:00:01\r\u001b[K    35% |███████████▎                    | 348kB 10.0MB/s eta 0:00:01\r\u001b[K    36% |███████████▋                    | 358kB 9.9MB/s eta 0:00:01\r\u001b[K    37% |████████████                    | 368kB 10.2MB/s eta 0:00:01\r\u001b[K    38% |████████████▎                   | 378kB 10.2MB/s eta 0:00:01\r\u001b[K    39% |████████████▋                   | 389kB 10.2MB/s eta 0:00:01\r\u001b[K    40% |█████████████                   | 399kB 10.3MB/s eta 0:00:01\r\u001b[K    41% |█████████████▎                  | 409kB 10.4MB/s eta 0:00:01\r\u001b[K    42% |█████████████▋                  | 419kB 10.4MB/s eta 0:00:01\r\u001b[K    43% |██████████████                  | 430kB 48.4MB/s eta 0:00:01\r\u001b[K    44% |██████████████▎                 | 440kB 51.2MB/s eta 0:00:01\r\u001b[K    45% |██████████████▋                 | 450kB 56.7MB/s eta 0:00:01\r\u001b[K    46% |███████████████                 | 460kB 57.2MB/s eta 0:00:01\r\u001b[K    47% |███████████████▎                | 471kB 58.8MB/s eta 0:00:01\r\u001b[K    48% |███████████████▋                | 481kB 59.0MB/s eta 0:00:01\r\u001b[K    49% |████████████████                | 491kB 58.1MB/s eta 0:00:01\r\u001b[K    50% |████████████████▎               | 501kB 58.2MB/s eta 0:00:01\r\u001b[K    51% |████████████████▋               | 512kB 53.3MB/s eta 0:00:01\r\u001b[K    52% |█████████████████               | 522kB 52.7MB/s eta 0:00:01\r\u001b[K    53% |█████████████████▎              | 532kB 53.3MB/s eta 0:00:01\r\u001b[K    54% |█████████████████▋              | 542kB 53.1MB/s eta 0:00:01\r\u001b[K    55% |██████████████████              | 552kB 58.2MB/s eta 0:00:01\r\u001b[K    57% |██████████████████▎             | 563kB 58.9MB/s eta 0:00:01\r\u001b[K    58% |██████████████████▋             | 573kB 57.5MB/s eta 0:00:01\r\u001b[K    59% |███████████████████             | 583kB 58.2MB/s eta 0:00:01\r\u001b[K    60% |███████████████████▎            | 593kB 58.4MB/s eta 0:00:01\r\u001b[K    61% |███████████████████▋            | 604kB 58.5MB/s eta 0:00:01\r\u001b[K    62% |████████████████████            | 614kB 64.6MB/s eta 0:00:01\r\u001b[K    63% |████████████████████▎           | 624kB 63.3MB/s eta 0:00:01\r\u001b[K    64% |████████████████████▋           | 634kB 62.9MB/s eta 0:00:01\r\u001b[K    65% |█████████████████████           | 645kB 63.2MB/s eta 0:00:01\r\u001b[K    66% |█████████████████████▎          | 655kB 63.0MB/s eta 0:00:01\r\u001b[K    67% |█████████████████████▋          | 665kB 48.4MB/s eta 0:00:01\r\u001b[K    68% |██████████████████████          | 675kB 48.7MB/s eta 0:00:01\r\u001b[K    69% |██████████████████████▎         | 686kB 49.0MB/s eta 0:00:01\r\u001b[K    70% |██████████████████████▋         | 696kB 20.3MB/s eta 0:00:01\r\u001b[K    71% |███████████████████████         | 706kB 20.0MB/s eta 0:00:01\r\u001b[K    72% |███████████████████████▎        | 716kB 19.3MB/s eta 0:00:01\r\u001b[K    73% |███████████████████████▋        | 727kB 19.0MB/s eta 0:00:01\r\u001b[K    74% |████████████████████████        | 737kB 18.8MB/s eta 0:00:01\r\u001b[K    75% |████████████████████████▎       | 747kB 18.7MB/s eta 0:00:01\r\u001b[K    76% |████████████████████████▋       | 757kB 18.6MB/s eta 0:00:01\r\u001b[K    77% |████████████████████████▉       | 768kB 20.3MB/s eta 0:00:01\r\u001b[K    78% |█████████████████████████▏      | 778kB 20.3MB/s eta 0:00:01\r\u001b[K    79% |█████████████████████████▌      | 788kB 20.1MB/s eta 0:00:01\r\u001b[K    80% |█████████████████████████▉      | 798kB 47.6MB/s eta 0:00:01\r\u001b[K    81% |██████████████████████████▏     | 808kB 48.3MB/s eta 0:00:01\r\u001b[K    82% |██████████████████████████▌     | 819kB 51.7MB/s eta 0:00:01\r\u001b[K    83% |██████████████████████████▉     | 829kB 55.0MB/s eta 0:00:01\r\u001b[K    85% |███████████████████████████▏    | 839kB 56.1MB/s eta 0:00:01\r\u001b[K    86% |███████████████████████████▌    | 849kB 57.0MB/s eta 0:00:01\r\u001b[K    87% |███████████████████████████▉    | 860kB 49.7MB/s eta 0:00:01\r\u001b[K    88% |████████████████████████████▏   | 870kB 49.3MB/s eta 0:00:01\r\u001b[K    89% |████████████████████████████▌   | 880kB 49.9MB/s eta 0:00:01\r\u001b[K    90% |████████████████████████████▉   | 890kB 50.7MB/s eta 0:00:01\r\u001b[K    91% |█████████████████████████████▏  | 901kB 50.7MB/s eta 0:00:01\r\u001b[K    92% |█████████████████████████████▌  | 911kB 51.2MB/s eta 0:00:01\r\u001b[K    93% |█████████████████████████████▉  | 921kB 52.0MB/s eta 0:00:01\r\u001b[K    94% |██████████████████████████████▏ | 931kB 52.0MB/s eta 0:00:01\r\u001b[K    95% |██████████████████████████████▌ | 942kB 52.3MB/s eta 0:00:01\r\u001b[K    96% |██████████████████████████████▉ | 952kB 14.2MB/s eta 0:00:01\r\u001b[K    97% |███████████████████████████████▏| 962kB 14.5MB/s eta 0:00:01\r\u001b[K    98% |███████████████████████████████▌| 972kB 14.5MB/s eta 0:00:01\r\u001b[K    99% |███████████████████████████████▉| 983kB 14.4MB/s eta 0:00:01\r\u001b[K    100% |████████████████████████████████| 993kB 8.7MB/s \n",
            "\u001b[?25h  Building wheel for PyDrive (setup.py) ... \u001b[?25ldone\n",
            "\u001b[?25h"
          ],
          "name": "stdout"
        }
      ]
    },
    {
      "metadata": {
        "id": "0Tkg642417m-",
        "colab_type": "code",
        "colab": {
          "base_uri": "https://localhost:8080/",
          "height": 136
        },
        "outputId": "3723a35f-2cf0-4829-d279-4662d1707780"
      },
      "cell_type": "code",
      "source": [
        "# Load a file by ID and download file\n",
        "start_time = time.time()\n",
        "file_id = '16q0OFwBqMtLh3BIixpttshC72M7SsKN1' # URL id. \n",
        "downloaded = drive.CreateFile({'id': file_id})\n",
        "downloaded.GetContentFile('my_temp.sh')\n",
        "exec_time = time.time() - start_time\n",
        "print(\"Time : {:.2f} seconds\".format(exec_time))\n",
        "!ls -l"
      ],
      "execution_count": 25,
      "outputs": [
        {
          "output_type": "stream",
          "text": [
            "Time : 0.39 seconds\n",
            "total 38\n",
            "-rw------- 1 root root 28137 Feb 23 10:49 GoogleColab_Tutorial.ipynb\n",
            "-rw------- 1 root root    31 Feb 23 10:49 my_temp.sh\n",
            "drwx------ 2 root root  4096 Feb 23 10:47 __pycache__\n",
            "drwx------ 2 root root  4096 Feb 23 10:49 Temp_Folder\n",
            "-rw------- 1 root root  1079 Feb 23 10:47 utils.py\n"
          ],
          "name": "stdout"
        }
      ]
    },
    {
      "metadata": {
        "id": "4TVH5aaxGRlI",
        "colab_type": "code",
        "outputId": "9fad864d-ad9c-48f6-c628-e4d63366021f",
        "colab": {
          "base_uri": "https://localhost:8080/",
          "height": 51
        }
      },
      "cell_type": "code",
      "source": [
        "file_path = \"./my_temp.sh\"\n",
        "data = utils.load_str(file_path)\n",
        "print(data)"
      ],
      "execution_count": 22,
      "outputs": [
        {
          "output_type": "stream",
          "text": [
            "echo \"Run temp.sh ...\"\n",
            "ls -l .\n"
          ],
          "name": "stdout"
        }
      ]
    },
    {
      "metadata": {
        "id": "9tOBSoqMGb2E",
        "colab_type": "code",
        "outputId": "05826005-9c14-41bd-d5cf-f6492cba464e",
        "colab": {
          "base_uri": "https://localhost:8080/",
          "height": 34
        }
      },
      "cell_type": "code",
      "source": [
        "# Save string to gdrive\n",
        "save_path = \"./Temp_Folder/copy_temp.sh\"\n",
        "utils.save_str(data, save_path)"
      ],
      "execution_count": 23,
      "outputs": [
        {
          "output_type": "stream",
          "text": [
            "Save str data to ./Temp_Folder/copy_temp.sh done\n"
          ],
          "name": "stdout"
        }
      ]
    },
    {
      "metadata": {
        "id": "64SsChbk2bne",
        "colab_type": "code",
        "colab": {
          "base_uri": "https://localhost:8080/",
          "height": 51
        },
        "outputId": "57c98e77-76bf-4b4a-c724-2f84295c6c33"
      },
      "cell_type": "code",
      "source": [
        "!cat \"./Temp_Folder/copy_temp.sh\""
      ],
      "execution_count": 24,
      "outputs": [
        {
          "output_type": "stream",
          "text": [
            "echo \"Run temp.sh ...\"\n",
            "ls -l ."
          ],
          "name": "stdout"
        }
      ]
    }
  ]
}